{
 "cells": [
  {
   "cell_type": "code",
   "execution_count": 49,
   "metadata": {},
   "outputs": [],
   "source": [
    "import pandas as pd\n",
    "import numpy as np\n"
   ]
  },
  {
   "cell_type": "code",
   "execution_count": 139,
   "metadata": {},
   "outputs": [
    {
     "data": {
      "text/plain": [
       "'C:\\\\Users\\\\uulka\\\\OneDrive\\\\Documents\\\\GitHub\\\\UCBEL201808DATA2\\\\04-Pandas\\\\Homework\\\\Instructions\\\\HeroesOfPymoli\\\\Resources'"
      ]
     },
     "execution_count": 139,
     "metadata": {},
     "output_type": "execute_result"
    }
   ],
   "source": [
    "pwd"
   ]
  },
  {
   "cell_type": "code",
   "execution_count": 51,
   "metadata": {},
   "outputs": [],
   "source": [
    "file = \"purchase_data.csv\""
   ]
  },
  {
   "cell_type": "code",
   "execution_count": 52,
   "metadata": {},
   "outputs": [
    {
     "data": {
      "text/html": [
       "<div>\n",
       "<style scoped>\n",
       "    .dataframe tbody tr th:only-of-type {\n",
       "        vertical-align: middle;\n",
       "    }\n",
       "\n",
       "    .dataframe tbody tr th {\n",
       "        vertical-align: top;\n",
       "    }\n",
       "\n",
       "    .dataframe thead th {\n",
       "        text-align: right;\n",
       "    }\n",
       "</style>\n",
       "<table border=\"1\" class=\"dataframe\">\n",
       "  <thead>\n",
       "    <tr style=\"text-align: right;\">\n",
       "      <th></th>\n",
       "      <th>Purchase ID</th>\n",
       "      <th>SN</th>\n",
       "      <th>Age</th>\n",
       "      <th>Gender</th>\n",
       "      <th>Item ID</th>\n",
       "      <th>Item Name</th>\n",
       "      <th>Price</th>\n",
       "    </tr>\n",
       "  </thead>\n",
       "  <tbody>\n",
       "    <tr>\n",
       "      <th>0</th>\n",
       "      <td>0</td>\n",
       "      <td>Lisim78</td>\n",
       "      <td>20</td>\n",
       "      <td>Male</td>\n",
       "      <td>108</td>\n",
       "      <td>Extraction, Quickblade Of Trembling Hands</td>\n",
       "      <td>3.53</td>\n",
       "    </tr>\n",
       "    <tr>\n",
       "      <th>1</th>\n",
       "      <td>1</td>\n",
       "      <td>Lisovynya38</td>\n",
       "      <td>40</td>\n",
       "      <td>Male</td>\n",
       "      <td>143</td>\n",
       "      <td>Frenzied Scimitar</td>\n",
       "      <td>1.56</td>\n",
       "    </tr>\n",
       "    <tr>\n",
       "      <th>2</th>\n",
       "      <td>2</td>\n",
       "      <td>Ithergue48</td>\n",
       "      <td>24</td>\n",
       "      <td>Male</td>\n",
       "      <td>92</td>\n",
       "      <td>Final Critic</td>\n",
       "      <td>4.88</td>\n",
       "    </tr>\n",
       "    <tr>\n",
       "      <th>3</th>\n",
       "      <td>3</td>\n",
       "      <td>Chamassasya86</td>\n",
       "      <td>24</td>\n",
       "      <td>Male</td>\n",
       "      <td>100</td>\n",
       "      <td>Blindscythe</td>\n",
       "      <td>3.27</td>\n",
       "    </tr>\n",
       "    <tr>\n",
       "      <th>4</th>\n",
       "      <td>4</td>\n",
       "      <td>Iskosia90</td>\n",
       "      <td>23</td>\n",
       "      <td>Male</td>\n",
       "      <td>131</td>\n",
       "      <td>Fury</td>\n",
       "      <td>1.44</td>\n",
       "    </tr>\n",
       "  </tbody>\n",
       "</table>\n",
       "</div>"
      ],
      "text/plain": [
       "   Purchase ID             SN  Age Gender  Item ID  \\\n",
       "0            0        Lisim78   20   Male      108   \n",
       "1            1    Lisovynya38   40   Male      143   \n",
       "2            2     Ithergue48   24   Male       92   \n",
       "3            3  Chamassasya86   24   Male      100   \n",
       "4            4      Iskosia90   23   Male      131   \n",
       "\n",
       "                                   Item Name  Price  \n",
       "0  Extraction, Quickblade Of Trembling Hands   3.53  \n",
       "1                          Frenzied Scimitar   1.56  \n",
       "2                               Final Critic   4.88  \n",
       "3                                Blindscythe   3.27  \n",
       "4                                       Fury   1.44  "
      ]
     },
     "execution_count": 52,
     "metadata": {},
     "output_type": "execute_result"
    }
   ],
   "source": [
    "file_df = pd.read_csv(file)\n",
    "file_df.head()"
   ]
  },
  {
   "cell_type": "code",
   "execution_count": 53,
   "metadata": {},
   "outputs": [
    {
     "data": {
      "text/plain": [
       "Index(['Purchase ID', 'SN', 'Age', 'Gender', 'Item ID', 'Item Name', 'Price'], dtype='object')"
      ]
     },
     "execution_count": 53,
     "metadata": {},
     "output_type": "execute_result"
    }
   ],
   "source": [
    "file_df.columns"
   ]
  },
  {
   "cell_type": "code",
   "execution_count": 54,
   "metadata": {},
   "outputs": [
    {
     "data": {
      "text/html": [
       "<div>\n",
       "<style scoped>\n",
       "    .dataframe tbody tr th:only-of-type {\n",
       "        vertical-align: middle;\n",
       "    }\n",
       "\n",
       "    .dataframe tbody tr th {\n",
       "        vertical-align: top;\n",
       "    }\n",
       "\n",
       "    .dataframe thead th {\n",
       "        text-align: right;\n",
       "    }\n",
       "</style>\n",
       "<table border=\"1\" class=\"dataframe\">\n",
       "  <thead>\n",
       "    <tr style=\"text-align: right;\">\n",
       "      <th></th>\n",
       "      <th>Total Players</th>\n",
       "    </tr>\n",
       "  </thead>\n",
       "  <tbody>\n",
       "    <tr>\n",
       "      <th>0</th>\n",
       "      <td>576</td>\n",
       "    </tr>\n",
       "  </tbody>\n",
       "</table>\n",
       "</div>"
      ],
      "text/plain": [
       "   Total Players\n",
       "0            576"
      ]
     },
     "execution_count": 54,
     "metadata": {},
     "output_type": "execute_result"
    }
   ],
   "source": [
    "totalplayers= {'Total Players':[len(file_df['SN'].value_counts())]}\n",
    "totalplayers1 = pd.DataFrame(totalplayers)\n",
    "totalplayers1"
   ]
  },
  {
   "cell_type": "code",
   "execution_count": 55,
   "metadata": {},
   "outputs": [
    {
     "data": {
      "text/plain": [
       "179"
      ]
     },
     "execution_count": 55,
     "metadata": {},
     "output_type": "execute_result"
    }
   ],
   "source": [
    "unique = len(file_df[\"Item Name\"].value_counts())\n",
    "unique"
   ]
  },
  {
   "cell_type": "code",
   "execution_count": 117,
   "metadata": {},
   "outputs": [
    {
     "data": {
      "text/plain": [
       "3.05"
      ]
     },
     "execution_count": 117,
     "metadata": {},
     "output_type": "execute_result"
    }
   ],
   "source": [
    "average = round(file_df[\"Price\"].mean(),2)\n",
    "average"
   ]
  },
  {
   "cell_type": "code",
   "execution_count": 118,
   "metadata": {},
   "outputs": [
    {
     "data": {
      "text/plain": [
       "780"
      ]
     },
     "execution_count": 118,
     "metadata": {},
     "output_type": "execute_result"
    }
   ],
   "source": [
    "number_purch = file_df[\"Item Name\"].count()\n",
    "number_purch"
   ]
  },
  {
   "cell_type": "code",
   "execution_count": 119,
   "metadata": {},
   "outputs": [
    {
     "data": {
      "text/plain": [
       "2379.77"
      ]
     },
     "execution_count": 119,
     "metadata": {},
     "output_type": "execute_result"
    }
   ],
   "source": [
    "total_revenue = file_df[\"Price\"].sum()\n",
    "total_revenue"
   ]
  },
  {
   "cell_type": "code",
   "execution_count": 120,
   "metadata": {},
   "outputs": [
    {
     "data": {
      "text/html": [
       "<div>\n",
       "<style scoped>\n",
       "    .dataframe tbody tr th:only-of-type {\n",
       "        vertical-align: middle;\n",
       "    }\n",
       "\n",
       "    .dataframe tbody tr th {\n",
       "        vertical-align: top;\n",
       "    }\n",
       "\n",
       "    .dataframe thead th {\n",
       "        text-align: right;\n",
       "    }\n",
       "</style>\n",
       "<table border=\"1\" class=\"dataframe\">\n",
       "  <thead>\n",
       "    <tr style=\"text-align: right;\">\n",
       "      <th></th>\n",
       "      <th>Unique Items</th>\n",
       "      <th>Average price</th>\n",
       "      <th>Number of Purchases</th>\n",
       "      <th>Total revenue</th>\n",
       "    </tr>\n",
       "  </thead>\n",
       "  <tbody>\n",
       "    <tr>\n",
       "      <th>0</th>\n",
       "      <td>179</td>\n",
       "      <td>3.05</td>\n",
       "      <td>780</td>\n",
       "      <td>2379.77</td>\n",
       "    </tr>\n",
       "  </tbody>\n",
       "</table>\n",
       "</div>"
      ],
      "text/plain": [
       "   Unique Items  Average price  Number of Purchases  Total revenue\n",
       "0           179           3.05                  780        2379.77"
      ]
     },
     "execution_count": 120,
     "metadata": {},
     "output_type": "execute_result"
    }
   ],
   "source": [
    "\n",
    "PurchAnalysis= {'Unique Items':[unique],'Average price':[average],'Number of Purchases': [number_purch],'Total revenue':[total_revenue]}\n",
    "PurchAnalysis =pd.DataFrame(PurchAnalysis)\n",
    "PurchAnalysis"
   ]
  },
  {
   "cell_type": "code",
   "execution_count": 121,
   "metadata": {},
   "outputs": [
    {
     "name": "stdout",
     "output_type": "stream",
     "text": [
      "84.03\n"
     ]
    }
   ],
   "source": [
    "totalplayers= len(file_df['SN'].value_counts())\n",
    "unique_Male= file_df.groupby(\"Gender\").get_group('Male')\n",
    "Male2= len(unique_Male['SN'].unique())\n",
    "MalePersentage = round((Male2/totalplayers)*100,2)\n",
    "print(MalePersentage)"
   ]
  },
  {
   "cell_type": "code",
   "execution_count": 122,
   "metadata": {},
   "outputs": [
    {
     "name": "stdout",
     "output_type": "stream",
     "text": [
      "14.06\n"
     ]
    }
   ],
   "source": [
    "totalplayers= len(file_df['SN'].value_counts())\n",
    "unique_Female= file_df.groupby(\"Gender\").get_group('Female')\n",
    "Female2= len(unique_Female['SN'].unique())\n",
    "FemalePersentage = round((Female2/totalplayers)*100,2)\n",
    "print(FemalePersentage)"
   ]
  },
  {
   "cell_type": "code",
   "execution_count": 123,
   "metadata": {},
   "outputs": [
    {
     "name": "stdout",
     "output_type": "stream",
     "text": [
      "1.91\n"
     ]
    }
   ],
   "source": [
    "totalplayers= len(file_df['SN'].value_counts())\n",
    "unique_Other= file_df.groupby(\"Gender\").get_group('Other / Non-Disclosed')\n",
    "Other2= len(unique_Other['SN'].unique())\n",
    "OtherPersentage = round((Other2/totalplayers)*100,2)\n",
    "print(OtherPersentage)"
   ]
  },
  {
   "cell_type": "code",
   "execution_count": 124,
   "metadata": {},
   "outputs": [
    {
     "data": {
      "text/plain": [
       "Male                     652\n",
       "Female                   113\n",
       "Other / Non-Disclosed     15\n",
       "Name: Gender, dtype: int64"
      ]
     },
     "execution_count": 124,
     "metadata": {},
     "output_type": "execute_result"
    }
   ],
   "source": [
    "file_df[\"Gender\"].value_counts()\n"
   ]
  },
  {
   "cell_type": "code",
   "execution_count": 125,
   "metadata": {},
   "outputs": [
    {
     "data": {
      "text/html": [
       "<div>\n",
       "<style scoped>\n",
       "    .dataframe tbody tr th:only-of-type {\n",
       "        vertical-align: middle;\n",
       "    }\n",
       "\n",
       "    .dataframe tbody tr th {\n",
       "        vertical-align: top;\n",
       "    }\n",
       "\n",
       "    .dataframe thead th {\n",
       "        text-align: right;\n",
       "    }\n",
       "</style>\n",
       "<table border=\"1\" class=\"dataframe\">\n",
       "  <thead>\n",
       "    <tr style=\"text-align: right;\">\n",
       "      <th></th>\n",
       "      <th>Gender Persentage</th>\n",
       "      <th>Gender count</th>\n",
       "    </tr>\n",
       "    <tr>\n",
       "      <th>Gender</th>\n",
       "      <th></th>\n",
       "      <th></th>\n",
       "    </tr>\n",
       "  </thead>\n",
       "  <tbody>\n",
       "    <tr>\n",
       "      <th>Male</th>\n",
       "      <td>84.03</td>\n",
       "      <td>484</td>\n",
       "    </tr>\n",
       "    <tr>\n",
       "      <th>Female</th>\n",
       "      <td>14.06</td>\n",
       "      <td>81</td>\n",
       "    </tr>\n",
       "    <tr>\n",
       "      <th>Other /Non-Diclosed</th>\n",
       "      <td>1.91</td>\n",
       "      <td>11</td>\n",
       "    </tr>\n",
       "  </tbody>\n",
       "</table>\n",
       "</div>"
      ],
      "text/plain": [
       "                     Gender Persentage  Gender count\n",
       "Gender                                              \n",
       "Male                             84.03           484\n",
       "Female                           14.06            81\n",
       "Other /Non-Diclosed               1.91            11"
      ]
     },
     "execution_count": 125,
     "metadata": {},
     "output_type": "execute_result"
    }
   ],
   "source": [
    "Genanalysis ={'Gender Persentage':[MalePersentage, FemalePersentage, OtherPersentage],'Gender count':[Male2,Female2, Other2],'Gender':\n",
    "               [ \"Male\", \"Female\", \"Other /Non-Diclosed\"]}\n",
    "Genanalysis = pd.DataFrame(Genanalysis)\n",
    "Genanalysis=Genanalysis.set_index('Gender')\n",
    "Genanalysis"
   ]
  },
  {
   "cell_type": "code",
   "execution_count": 126,
   "metadata": {},
   "outputs": [],
   "source": [
    "#Total Gender purchase\n",
    "Maletotal= round(unique_Male[\"Price\"].sum(),2)\n",
    "Femaletotal= round(unique_Female[\"Price\"].sum(),2)\n",
    "Othertotal = round(unique_Other[\"Price\"].sum(),2)\n",
    "#Average Purchase Price\n",
    "MaleAvgPrice =round((unique_Male[\"Price\"].sum())/len(unique_Male[\"Price\"]),2)\n",
    "FemAvgPrice= round((unique_Female[\"Price\"].sum())/len(unique_Female[\"Price\"]),2)\n",
    "OtherAvgPrice= round((unique_Other[\"Price\"].sum())/len(unique_Other[\"Price\"]),2)\n",
    "#Total gender purchase count\n",
    "MalePurchCount=len(unique_Male)\n",
    "FemPurchCount =len(unique_Female)\n",
    "OtherPurchCount =len(unique_Other)\n",
    "\n",
    "#Avg Total Purchase per Person\n",
    "MaleAvg= round((Maletotal/Male2),2)\n",
    "FemAvg= round((Femaletotal/Female2),2)\n",
    "OtherAvg = round((Othertotal/Other2),2)\n"
   ]
  },
  {
   "cell_type": "code",
   "execution_count": 127,
   "metadata": {},
   "outputs": [
    {
     "data": {
      "text/html": [
       "<div>\n",
       "<style scoped>\n",
       "    .dataframe tbody tr th:only-of-type {\n",
       "        vertical-align: middle;\n",
       "    }\n",
       "\n",
       "    .dataframe tbody tr th {\n",
       "        vertical-align: top;\n",
       "    }\n",
       "\n",
       "    .dataframe thead th {\n",
       "        text-align: right;\n",
       "    }\n",
       "</style>\n",
       "<table border=\"1\" class=\"dataframe\">\n",
       "  <thead>\n",
       "    <tr style=\"text-align: right;\">\n",
       "      <th></th>\n",
       "      <th>Purchase Count</th>\n",
       "      <th>Average Purchase Price</th>\n",
       "      <th>Total Purchase Value</th>\n",
       "      <th>Avg Total Purchase per Person</th>\n",
       "    </tr>\n",
       "    <tr>\n",
       "      <th>Gender</th>\n",
       "      <th></th>\n",
       "      <th></th>\n",
       "      <th></th>\n",
       "      <th></th>\n",
       "    </tr>\n",
       "  </thead>\n",
       "  <tbody>\n",
       "    <tr>\n",
       "      <th>Male</th>\n",
       "      <td>652</td>\n",
       "      <td>3.02</td>\n",
       "      <td>1967.64</td>\n",
       "      <td>4.07</td>\n",
       "    </tr>\n",
       "    <tr>\n",
       "      <th>Female</th>\n",
       "      <td>113</td>\n",
       "      <td>3.20</td>\n",
       "      <td>361.94</td>\n",
       "      <td>4.47</td>\n",
       "    </tr>\n",
       "    <tr>\n",
       "      <th>Other</th>\n",
       "      <td>15</td>\n",
       "      <td>3.35</td>\n",
       "      <td>50.19</td>\n",
       "      <td>4.56</td>\n",
       "    </tr>\n",
       "  </tbody>\n",
       "</table>\n",
       "</div>"
      ],
      "text/plain": [
       "        Purchase Count  Average Purchase Price  Total Purchase Value  \\\n",
       "Gender                                                                 \n",
       "Male               652                    3.02               1967.64   \n",
       "Female             113                    3.20                361.94   \n",
       "Other               15                    3.35                 50.19   \n",
       "\n",
       "        Avg Total Purchase per Person  \n",
       "Gender                                 \n",
       "Male                             4.07  \n",
       "Female                           4.47  \n",
       "Other                            4.56  "
      ]
     },
     "execution_count": 127,
     "metadata": {},
     "output_type": "execute_result"
    }
   ],
   "source": [
    "Genderpurchanalysis = {\"Purchase Count\":[MalePurchCount,FemPurchCount,OtherPurchCount],\n",
    "                    \"Gender\":[\"Male\",\"Female\",\"Other\"],\n",
    "                    \"Average Purchase Price\":[MaleAvgPrice,FemAvgPrice,OtherAvgPrice],\n",
    "                    \"Total Purchase Value\":[Maletotal,Femaletotal,Othertotal],\n",
    "                \"Avg Total Purchase per Person\":[MaleAvg,FemAvg,OtherAvg]}\n",
    "Genderpurchanalysis1= pd.DataFrame(Genderpurchanalysis)\n",
    "Genderpurchanalysis1 = Genderpurchanalysis1.set_index('Gender')\n",
    "Genderpurchanalysis1= Genderpurchanalysis1[['Purchase Count','Average Purchase Price','Total Purchase Value','Avg Total Purchase per Person']]\n",
    "Genderpurchanalysis1"
   ]
  },
  {
   "cell_type": "code",
   "execution_count": 128,
   "metadata": {},
   "outputs": [
    {
     "name": "stdout",
     "output_type": "stream",
     "text": [
      "45\n"
     ]
    }
   ],
   "source": [
    "AgeMax=file_df['Age'].max()\n",
    "print(AgeMax)"
   ]
  },
  {
   "cell_type": "code",
   "execution_count": 129,
   "metadata": {},
   "outputs": [],
   "source": [
    "#Age analysis\n",
    "bins = [0,10,14,19,24,29,34,39,46]\n",
    "years = [\"Under 10\",\"10-14\",\"15-19\",\"20-24\",\"25-29\",\"30-34\",\"35-39\",\"Over 40\"]\n",
    "file_df['Summary_Age'] = pd.cut(file_df['Age'],bins,labels= years)\n",
    "\n"
   ]
  },
  {
   "cell_type": "code",
   "execution_count": 130,
   "metadata": {},
   "outputs": [],
   "source": [
    "\n",
    "Bin1 = file_df.groupby(['Summary_Age']).get_group(('Under 10'))\n",
    "Bin1Count = len(Bin1['SN'].unique())\n",
    "PercentBin1 = (Bin1Count/totalplayers)*100\n",
    "\n",
    "Bin2 = file_df.groupby(['Summary_Age']).get_group(('10-14'))\n",
    "Bin2Count = len(Bin2['SN'].unique())\n",
    "PercentBin2 = (Bin2Count/totalplayers)*100\n",
    "\n",
    "Bin3 = file_df.groupby(['Summary_Age']).get_group(('15-19'))\n",
    "Bin3Count= len(Bin3['SN'].unique())\n",
    "PercentBin3 = (Bin3Count/totalplayers)*100\n",
    "\n",
    "Bin4 = file_df.groupby(['Summary_Age']).get_group(('20-24'))\n",
    "Bin4Count= len(Bin4['SN'].unique())\n",
    "PercentBin4 = (Bin4Count/totalplayers)*100\n",
    "\n",
    "Bin5 = file_df.groupby(['Summary_Age']).get_group(('25-29'))\n",
    "Bin5Count = len(Bin5['SN'].unique())\n",
    "PercentBin5 = (Bin5Count/totalplayers)*100\n",
    "\n",
    "Bin6 = file_df.groupby(['Summary_Age']).get_group(('30-34'))\n",
    "Bin6Count = len(Bin6['SN'].unique())\n",
    "PercentBin6 = (Bin6Count/totalplayers)*100\n",
    "\n",
    "Bin7 = file_df.groupby(['Summary_Age']).get_group(('35-39'))\n",
    "Bin7Count = len(Bin7['SN'].unique())\n",
    "PercentBin7 = (Bin7Count/totalplayers)*100\n",
    "\n",
    "Bin8 = file_df.groupby(['Summary_Age']).get_group(('Over 40'))\n",
    "Bin8Count= len(Bin8['SN'].unique())\n",
    "PercentBin8 = (Bin8Count/totalplayers)*100"
   ]
  },
  {
   "cell_type": "code",
   "execution_count": 131,
   "metadata": {},
   "outputs": [
    {
     "data": {
      "text/html": [
       "<div>\n",
       "<style scoped>\n",
       "    .dataframe tbody tr th:only-of-type {\n",
       "        vertical-align: middle;\n",
       "    }\n",
       "\n",
       "    .dataframe tbody tr th {\n",
       "        vertical-align: top;\n",
       "    }\n",
       "\n",
       "    .dataframe thead th {\n",
       "        text-align: right;\n",
       "    }\n",
       "</style>\n",
       "<table border=\"1\" class=\"dataframe\">\n",
       "  <thead>\n",
       "    <tr style=\"text-align: right;\">\n",
       "      <th></th>\n",
       "      <th>Total Player Count</th>\n",
       "      <th>Percentage Of Players</th>\n",
       "    </tr>\n",
       "    <tr>\n",
       "      <th>Summary_Age</th>\n",
       "      <th></th>\n",
       "      <th></th>\n",
       "    </tr>\n",
       "  </thead>\n",
       "  <tbody>\n",
       "    <tr>\n",
       "      <th>Under 10</th>\n",
       "      <td>24</td>\n",
       "      <td>4.17</td>\n",
       "    </tr>\n",
       "    <tr>\n",
       "      <th>10-14</th>\n",
       "      <td>15</td>\n",
       "      <td>2.60</td>\n",
       "    </tr>\n",
       "    <tr>\n",
       "      <th>15-19</th>\n",
       "      <td>107</td>\n",
       "      <td>18.58</td>\n",
       "    </tr>\n",
       "    <tr>\n",
       "      <th>20-24</th>\n",
       "      <td>258</td>\n",
       "      <td>44.79</td>\n",
       "    </tr>\n",
       "    <tr>\n",
       "      <th>25-29</th>\n",
       "      <td>77</td>\n",
       "      <td>13.37</td>\n",
       "    </tr>\n",
       "    <tr>\n",
       "      <th>30-34</th>\n",
       "      <td>52</td>\n",
       "      <td>9.03</td>\n",
       "    </tr>\n",
       "    <tr>\n",
       "      <th>35-39</th>\n",
       "      <td>31</td>\n",
       "      <td>5.38</td>\n",
       "    </tr>\n",
       "    <tr>\n",
       "      <th>Over 40</th>\n",
       "      <td>12</td>\n",
       "      <td>2.08</td>\n",
       "    </tr>\n",
       "  </tbody>\n",
       "</table>\n",
       "</div>"
      ],
      "text/plain": [
       "             Total Player Count  Percentage Of Players\n",
       "Summary_Age                                           \n",
       "Under 10                     24                   4.17\n",
       "10-14                        15                   2.60\n",
       "15-19                       107                  18.58\n",
       "20-24                       258                  44.79\n",
       "25-29                        77                  13.37\n",
       "30-34                        52                   9.03\n",
       "35-39                        31                   5.38\n",
       "Over 40                      12                   2.08"
      ]
     },
     "execution_count": 131,
     "metadata": {},
     "output_type": "execute_result"
    }
   ],
   "source": [
    "BinsCount=[Bin1Count,Bin2Count,Bin3Count,Bin4Count,Bin5Count,Bin6Count,Bin7Count,Bin8Count]\n",
    "PercentBins= [PercentBin1,PercentBin2,PercentBin3,PercentBin4,PercentBin5,PercentBin6,PercentBin7,PercentBin8]\n",
    "PercentBins= [round(x,2) for x in PercentBins]\n",
    "\n",
    "AgeAnalysis = {\"Summary_Age\":years,\"Total Player Count\":BinsCount,\"Percentage Of Players\":PercentBins}\n",
    "AgeAnalysis1 = pd.DataFrame(AgeAnalysis)\n",
    "AgeAnalysis1 = AgeAnalysis1.set_index('Summary_Age')\n",
    "AgeAnalysis1"
   ]
  },
  {
   "cell_type": "code",
   "execution_count": 132,
   "metadata": {},
   "outputs": [],
   "source": [
    "#Total age purchase value\n",
    "Bin1total= round(Bin1[\"Price\"].sum(),2)\n",
    "Bin2total= round(Bin2[\"Price\"].sum(),2)\n",
    "Bin3total = round(Bin3[\"Price\"].sum(),2)\n",
    "Bin4total = round(Bin4[\"Price\"].sum(),2)\n",
    "Bin5total = round(Bin5[\"Price\"].sum(),2)\n",
    "Bin6total = round(Bin6[\"Price\"].sum(),2)\n",
    "Bin7total = round(Bin7[\"Price\"].sum(),2)\n",
    "Bin8total = round(Bin8[\"Price\"].sum(),2)\n",
    "#Total purchase count\n",
    "Bin1PurchCount=len(Bin1[\"Price\"])\n",
    "Bin2PurchCount =len(Bin2[\"Price\"])\n",
    "Bin3PurchCount =len(Bin3[\"Price\"])\n",
    "Bin4PurchCount =len(Bin4[\"Price\"])\n",
    "Bin5PurchCount =len(Bin5[\"Price\"])\n",
    "Bin6PurchCount =len(Bin6[\"Price\"])\n",
    "Bin7PurchCount =len(Bin7[\"Price\"])\n",
    "Bin8PurchCount =len(Bin8[\"Price\"])\n",
    "\n",
    "#Average Purchase Price\n",
    "Bin1AvgPrice =round((Bin1total/Bin1PurchCount),2)\n",
    "Bin2AvgPrice= round((Bin2total/Bin2PurchCount),2)\n",
    "Bin3AvgPrice= round((Bin3total/Bin3PurchCount),2)\n",
    "Bin4AvgPrice= round((Bin4total/Bin4PurchCount),2)\n",
    "Bin5AvgPrice= round((Bin5total/Bin5PurchCount),2)\n",
    "Bin6AvgPrice= round((Bin6total/Bin6PurchCount),2)\n",
    "Bin7AvgPrice= round((Bin7total/Bin7PurchCount),2)\n",
    "Bin8AvgPrice= round((Bin8total/Bin8PurchCount),2)\n",
    "\n",
    "\n",
    "#Avg Total Purchase per Age bin\n",
    "Bin1Avg= round((Bin1total/Bin1Count),2)\n",
    "Bin2Avg= round((Bin2total/Bin2Count),2)\n",
    "Bin3Avg = round((Bin3total/Bin3Count),2)\n",
    "Bin4Avg = round((Bin4total/Bin4Count),2)\n",
    "Bin5Avg = round((Bin5total/Bin5Count),2)\n",
    "Bin6Avg = round((Bin6total/Bin6Count),2)\n",
    "Bin7Avg = round((Bin7total/Bin7Count),2)\n",
    "Bin8Avg = round((Bin8total/Bin8Count),2)\n"
   ]
  },
  {
   "cell_type": "code",
   "execution_count": 133,
   "metadata": {
    "scrolled": false
   },
   "outputs": [
    {
     "data": {
      "text/html": [
       "<div>\n",
       "<style scoped>\n",
       "    .dataframe tbody tr th:only-of-type {\n",
       "        vertical-align: middle;\n",
       "    }\n",
       "\n",
       "    .dataframe tbody tr th {\n",
       "        vertical-align: top;\n",
       "    }\n",
       "\n",
       "    .dataframe thead th {\n",
       "        text-align: right;\n",
       "    }\n",
       "</style>\n",
       "<table border=\"1\" class=\"dataframe\">\n",
       "  <thead>\n",
       "    <tr style=\"text-align: right;\">\n",
       "      <th></th>\n",
       "      <th>Purchase Count</th>\n",
       "      <th>Average Purchase Price</th>\n",
       "      <th>Total Purchase Value</th>\n",
       "      <th>Avg Total Purchase per Age</th>\n",
       "    </tr>\n",
       "    <tr>\n",
       "      <th>Age</th>\n",
       "      <th></th>\n",
       "      <th></th>\n",
       "      <th></th>\n",
       "      <th></th>\n",
       "    </tr>\n",
       "  </thead>\n",
       "  <tbody>\n",
       "    <tr>\n",
       "      <th>Under 10</th>\n",
       "      <td>32</td>\n",
       "      <td>3.40</td>\n",
       "      <td>108.96</td>\n",
       "      <td>4.54</td>\n",
       "    </tr>\n",
       "    <tr>\n",
       "      <th>10-14</th>\n",
       "      <td>19</td>\n",
       "      <td>2.68</td>\n",
       "      <td>50.95</td>\n",
       "      <td>3.40</td>\n",
       "    </tr>\n",
       "    <tr>\n",
       "      <th>15-19</th>\n",
       "      <td>136</td>\n",
       "      <td>3.04</td>\n",
       "      <td>412.89</td>\n",
       "      <td>3.86</td>\n",
       "    </tr>\n",
       "    <tr>\n",
       "      <th>20-24</th>\n",
       "      <td>365</td>\n",
       "      <td>3.05</td>\n",
       "      <td>1114.06</td>\n",
       "      <td>4.32</td>\n",
       "    </tr>\n",
       "    <tr>\n",
       "      <th>25-29</th>\n",
       "      <td>101</td>\n",
       "      <td>2.90</td>\n",
       "      <td>293.00</td>\n",
       "      <td>3.81</td>\n",
       "    </tr>\n",
       "    <tr>\n",
       "      <th>30-34</th>\n",
       "      <td>73</td>\n",
       "      <td>2.93</td>\n",
       "      <td>214.00</td>\n",
       "      <td>4.12</td>\n",
       "    </tr>\n",
       "    <tr>\n",
       "      <th>35-39</th>\n",
       "      <td>41</td>\n",
       "      <td>3.60</td>\n",
       "      <td>147.67</td>\n",
       "      <td>4.76</td>\n",
       "    </tr>\n",
       "    <tr>\n",
       "      <th>Over 40</th>\n",
       "      <td>13</td>\n",
       "      <td>2.94</td>\n",
       "      <td>38.24</td>\n",
       "      <td>3.19</td>\n",
       "    </tr>\n",
       "  </tbody>\n",
       "</table>\n",
       "</div>"
      ],
      "text/plain": [
       "          Purchase Count  Average Purchase Price  Total Purchase Value  \\\n",
       "Age                                                                      \n",
       "Under 10              32                    3.40                108.96   \n",
       "10-14                 19                    2.68                 50.95   \n",
       "15-19                136                    3.04                412.89   \n",
       "20-24                365                    3.05               1114.06   \n",
       "25-29                101                    2.90                293.00   \n",
       "30-34                 73                    2.93                214.00   \n",
       "35-39                 41                    3.60                147.67   \n",
       "Over 40               13                    2.94                 38.24   \n",
       "\n",
       "          Avg Total Purchase per Age  \n",
       "Age                                   \n",
       "Under 10                        4.54  \n",
       "10-14                           3.40  \n",
       "15-19                           3.86  \n",
       "20-24                           4.32  \n",
       "25-29                           3.81  \n",
       "30-34                           4.12  \n",
       "35-39                           4.76  \n",
       "Over 40                         3.19  "
      ]
     },
     "execution_count": 133,
     "metadata": {},
     "output_type": "execute_result"
    }
   ],
   "source": [
    "\n",
    "AgeAnalysis = {\"Age\":[\"Under 10\",\"10-14\",\"15-19\",\"20-24\",\"25-29\",\"30-34\",\"35-39\",\"Over 40\"],\"Purchase Count\":[Bin1PurchCount,Bin2PurchCount,Bin3PurchCount,Bin4PurchCount,Bin5PurchCount,Bin6PurchCount,Bin7PurchCount,Bin8PurchCount],\n",
    "               \"Average Purchase Price\":[Bin1AvgPrice,Bin2AvgPrice,Bin3AvgPrice,Bin4AvgPrice,Bin5AvgPrice,Bin6AvgPrice,Bin7AvgPrice,Bin8AvgPrice],\n",
    "                    \"Total Purchase Value\":[Bin1total,Bin2total,Bin3total,Bin4total,Bin5total,Bin6total, Bin7total,Bin8total],\n",
    "                \"Avg Total Purchase per Age\":[Bin1Avg,Bin2Avg,Bin3Avg,Bin4Avg,Bin5Avg,Bin6Avg,Bin7Avg, Bin8Avg]}\n",
    "AgeAnalysis1 = pd.DataFrame(AgeAnalysis)\n",
    "AgeAnalysis1 = AgeAnalysis1.set_index('Age')\n",
    "\n",
    "AgeAnalysis1"
   ]
  },
  {
   "cell_type": "code",
   "execution_count": 134,
   "metadata": {},
   "outputs": [
    {
     "data": {
      "text/html": [
       "<div>\n",
       "<style scoped>\n",
       "    .dataframe tbody tr th:only-of-type {\n",
       "        vertical-align: middle;\n",
       "    }\n",
       "\n",
       "    .dataframe tbody tr th {\n",
       "        vertical-align: top;\n",
       "    }\n",
       "\n",
       "    .dataframe thead th {\n",
       "        text-align: right;\n",
       "    }\n",
       "</style>\n",
       "<table border=\"1\" class=\"dataframe\">\n",
       "  <thead>\n",
       "    <tr style=\"text-align: right;\">\n",
       "      <th></th>\n",
       "      <th>Purchase Count</th>\n",
       "      <th>Average Purchase Price</th>\n",
       "      <th>Total Purchase Value</th>\n",
       "    </tr>\n",
       "    <tr>\n",
       "      <th>SN</th>\n",
       "      <th></th>\n",
       "      <th></th>\n",
       "      <th></th>\n",
       "    </tr>\n",
       "  </thead>\n",
       "  <tbody>\n",
       "    <tr>\n",
       "      <th>[Lisosia93]</th>\n",
       "      <td>5</td>\n",
       "      <td>3.79</td>\n",
       "      <td>18.96</td>\n",
       "    </tr>\n",
       "    <tr>\n",
       "      <th>[Idastidru52]</th>\n",
       "      <td>4</td>\n",
       "      <td>3.86</td>\n",
       "      <td>15.45</td>\n",
       "    </tr>\n",
       "    <tr>\n",
       "      <th>[Chamjask73]</th>\n",
       "      <td>3</td>\n",
       "      <td>4.61</td>\n",
       "      <td>13.83</td>\n",
       "    </tr>\n",
       "    <tr>\n",
       "      <th>[Iral74]</th>\n",
       "      <td>4</td>\n",
       "      <td>3.40</td>\n",
       "      <td>13.62</td>\n",
       "    </tr>\n",
       "    <tr>\n",
       "      <th>[Iskadarya95]</th>\n",
       "      <td>3</td>\n",
       "      <td>4.37</td>\n",
       "      <td>13.10</td>\n",
       "    </tr>\n",
       "    <tr>\n",
       "      <th>[Ilarin91]</th>\n",
       "      <td>3</td>\n",
       "      <td>4.23</td>\n",
       "      <td>12.70</td>\n",
       "    </tr>\n",
       "    <tr>\n",
       "      <th>[Ialallo29]</th>\n",
       "      <td>3</td>\n",
       "      <td>3.95</td>\n",
       "      <td>11.84</td>\n",
       "    </tr>\n",
       "    <tr>\n",
       "      <th>[Tyidaim51]</th>\n",
       "      <td>3</td>\n",
       "      <td>3.94</td>\n",
       "      <td>11.83</td>\n",
       "    </tr>\n",
       "    <tr>\n",
       "      <th>[Lassilsala30]</th>\n",
       "      <td>3</td>\n",
       "      <td>3.84</td>\n",
       "      <td>11.51</td>\n",
       "    </tr>\n",
       "    <tr>\n",
       "      <th>[Chadolyla44]</th>\n",
       "      <td>3</td>\n",
       "      <td>3.82</td>\n",
       "      <td>11.46</td>\n",
       "    </tr>\n",
       "  </tbody>\n",
       "</table>\n",
       "</div>"
      ],
      "text/plain": [
       "                Purchase Count  Average Purchase Price  Total Purchase Value\n",
       "SN                                                                          \n",
       "[Lisosia93]                  5                    3.79                 18.96\n",
       "[Idastidru52]                4                    3.86                 15.45\n",
       "[Chamjask73]                 3                    4.61                 13.83\n",
       "[Iral74]                     4                    3.40                 13.62\n",
       "[Iskadarya95]                3                    4.37                 13.10\n",
       "[Ilarin91]                   3                    4.23                 12.70\n",
       "[Ialallo29]                  3                    3.95                 11.84\n",
       "[Tyidaim51]                  3                    3.94                 11.83\n",
       "[Lassilsala30]               3                    3.84                 11.51\n",
       "[Chadolyla44]                3                    3.82                 11.46"
      ]
     },
     "execution_count": 134,
     "metadata": {},
     "output_type": "execute_result"
    }
   ],
   "source": [
    "#Top Spenders\n",
    "\n",
    "SN = file_df.groupby(file_df[\"SN\"])\n",
    "UserName = SN[\"SN\"].unique()\n",
    "# Total Purchase Count\n",
    "SNcount = SN['Age'].count()\n",
    "\n",
    "#Average Purchase Price\n",
    "SNaverage = round(SN['Price'].mean(),2)\n",
    "\n",
    "#Total Purchase Value\n",
    "SNtotal = SN['Price'].sum()\n",
    "\n",
    "\n",
    "TopSpenders = {\"SN\":UserName,\"Purchase Count\":SNcount,\n",
    "                 \"Average Purchase Price\":SNaverage,\"Total Purchase Value\":SNtotal}\n",
    "TopSpenders1= pd.DataFrame(TopSpenders)\n",
    "TopSpenders1= TopSpenders1.set_index('SN')\n",
    "TopSpenders1 = TopSpenders1.sort_values(\"Total Purchase Value\",ascending=False)\n",
    "TopSpenders1 = TopSpenders1[['Purchase Count', 'Average Purchase Price', 'Total Purchase Value']]\n",
    "TopSpenders1\n",
    "TopSpenders1.iloc[:10]"
   ]
  },
  {
   "cell_type": "code",
   "execution_count": 135,
   "metadata": {},
   "outputs": [],
   "source": [
    "#Most Popular Items\n",
    "\n",
    "ItemId = file_df.groupby(file_df['Item ID'])\n",
    "Items = ItemId['Item ID'].unique()\n",
    "#Item Name\n",
    "\n",
    "ItemName = ItemId[\"Item Name\"].unique()\n",
    "\n",
    "#Purchase Count\n",
    "ItemCount = ItemId['Age'].count()\n",
    "\n",
    "#Item Price\n",
    "ItemPrice= ItemId['Price'].unique()\n",
    "\n",
    "\n",
    "#Total Purchase Value\n",
    "ItemTotalPurch = ItemId['Price'].sum()\n"
   ]
  },
  {
   "cell_type": "code",
   "execution_count": 136,
   "metadata": {},
   "outputs": [
    {
     "data": {
      "text/html": [
       "<div>\n",
       "<style scoped>\n",
       "    .dataframe tbody tr th:only-of-type {\n",
       "        vertical-align: middle;\n",
       "    }\n",
       "\n",
       "    .dataframe tbody tr th {\n",
       "        vertical-align: top;\n",
       "    }\n",
       "\n",
       "    .dataframe thead th {\n",
       "        text-align: right;\n",
       "    }\n",
       "</style>\n",
       "<table border=\"1\" class=\"dataframe\">\n",
       "  <thead>\n",
       "    <tr style=\"text-align: right;\">\n",
       "      <th></th>\n",
       "      <th>Item Name</th>\n",
       "      <th>Item Count</th>\n",
       "      <th>Item Price</th>\n",
       "      <th>Total Purchase</th>\n",
       "    </tr>\n",
       "    <tr>\n",
       "      <th>Item ID</th>\n",
       "      <th></th>\n",
       "      <th></th>\n",
       "      <th></th>\n",
       "      <th></th>\n",
       "    </tr>\n",
       "  </thead>\n",
       "  <tbody>\n",
       "    <tr>\n",
       "      <th>[178]</th>\n",
       "      <td>[Oathbreaker, Last Hope of the Breaking Storm]</td>\n",
       "      <td>12</td>\n",
       "      <td>[4.23]</td>\n",
       "      <td>50.76</td>\n",
       "    </tr>\n",
       "    <tr>\n",
       "      <th>[145]</th>\n",
       "      <td>[Fiery Glass Crusader]</td>\n",
       "      <td>9</td>\n",
       "      <td>[4.58]</td>\n",
       "      <td>41.22</td>\n",
       "    </tr>\n",
       "    <tr>\n",
       "      <th>[108]</th>\n",
       "      <td>[Extraction, Quickblade Of Trembling Hands]</td>\n",
       "      <td>9</td>\n",
       "      <td>[3.53]</td>\n",
       "      <td>31.77</td>\n",
       "    </tr>\n",
       "    <tr>\n",
       "      <th>[82]</th>\n",
       "      <td>[Nirvana]</td>\n",
       "      <td>9</td>\n",
       "      <td>[4.9]</td>\n",
       "      <td>44.10</td>\n",
       "    </tr>\n",
       "    <tr>\n",
       "      <th>[19]</th>\n",
       "      <td>[Pursuit, Cudgel of Necromancy]</td>\n",
       "      <td>8</td>\n",
       "      <td>[1.02]</td>\n",
       "      <td>8.16</td>\n",
       "    </tr>\n",
       "    <tr>\n",
       "      <th>[103]</th>\n",
       "      <td>[Singed Scalpel]</td>\n",
       "      <td>8</td>\n",
       "      <td>[4.35]</td>\n",
       "      <td>34.80</td>\n",
       "    </tr>\n",
       "    <tr>\n",
       "      <th>[75]</th>\n",
       "      <td>[Brutality Ivory Warmace]</td>\n",
       "      <td>8</td>\n",
       "      <td>[2.42]</td>\n",
       "      <td>19.36</td>\n",
       "    </tr>\n",
       "    <tr>\n",
       "      <th>[72]</th>\n",
       "      <td>[Winter's Bite]</td>\n",
       "      <td>8</td>\n",
       "      <td>[3.77]</td>\n",
       "      <td>30.16</td>\n",
       "    </tr>\n",
       "    <tr>\n",
       "      <th>[60]</th>\n",
       "      <td>[Wolf]</td>\n",
       "      <td>8</td>\n",
       "      <td>[3.54]</td>\n",
       "      <td>28.32</td>\n",
       "    </tr>\n",
       "    <tr>\n",
       "      <th>[59]</th>\n",
       "      <td>[Lightning, Etcher of the King]</td>\n",
       "      <td>8</td>\n",
       "      <td>[4.23]</td>\n",
       "      <td>33.84</td>\n",
       "    </tr>\n",
       "  </tbody>\n",
       "</table>\n",
       "</div>"
      ],
      "text/plain": [
       "                                              Item Name  Item Count  \\\n",
       "Item ID                                                               \n",
       "[178]    [Oathbreaker, Last Hope of the Breaking Storm]          12   \n",
       "[145]                            [Fiery Glass Crusader]           9   \n",
       "[108]       [Extraction, Quickblade Of Trembling Hands]           9   \n",
       "[82]                                          [Nirvana]           9   \n",
       "[19]                    [Pursuit, Cudgel of Necromancy]           8   \n",
       "[103]                                  [Singed Scalpel]           8   \n",
       "[75]                          [Brutality Ivory Warmace]           8   \n",
       "[72]                                    [Winter's Bite]           8   \n",
       "[60]                                             [Wolf]           8   \n",
       "[59]                    [Lightning, Etcher of the King]           8   \n",
       "\n",
       "        Item Price  Total Purchase  \n",
       "Item ID                             \n",
       "[178]       [4.23]           50.76  \n",
       "[145]       [4.58]           41.22  \n",
       "[108]       [3.53]           31.77  \n",
       "[82]         [4.9]           44.10  \n",
       "[19]        [1.02]            8.16  \n",
       "[103]       [4.35]           34.80  \n",
       "[75]        [2.42]           19.36  \n",
       "[72]        [3.77]           30.16  \n",
       "[60]        [3.54]           28.32  \n",
       "[59]        [4.23]           33.84  "
      ]
     },
     "execution_count": 136,
     "metadata": {},
     "output_type": "execute_result"
    }
   ],
   "source": [
    "Item_summary = {'Item ID':Items,'Item Name':ItemName,'Item Price':ItemPrice,'Item Count':ItemCount,'Total Purchase':ItemTotalPurch}\n",
    "Item_summary1 = pd.DataFrame(Item_summary)\n",
    "Item_summary1 = Item_summary1.set_index('Item ID')\n",
    "Item_summary1= Item_summary1.sort_values('Item Count', ascending=False)\n",
    "Item_summary1 = Item_summary1[['Item Name','Item Count','Item Price','Total Purchase']]\n",
    "Item_summary1.iloc[:10]"
   ]
  },
  {
   "cell_type": "code",
   "execution_count": 138,
   "metadata": {},
   "outputs": [
    {
     "data": {
      "text/html": [
       "<div>\n",
       "<style scoped>\n",
       "    .dataframe tbody tr th:only-of-type {\n",
       "        vertical-align: middle;\n",
       "    }\n",
       "\n",
       "    .dataframe tbody tr th {\n",
       "        vertical-align: top;\n",
       "    }\n",
       "\n",
       "    .dataframe thead th {\n",
       "        text-align: right;\n",
       "    }\n",
       "</style>\n",
       "<table border=\"1\" class=\"dataframe\">\n",
       "  <thead>\n",
       "    <tr style=\"text-align: right;\">\n",
       "      <th></th>\n",
       "      <th>Item Name</th>\n",
       "      <th>Item Count</th>\n",
       "      <th>Item Price</th>\n",
       "      <th>Total Purchase</th>\n",
       "    </tr>\n",
       "    <tr>\n",
       "      <th>Item ID</th>\n",
       "      <th></th>\n",
       "      <th></th>\n",
       "      <th></th>\n",
       "      <th></th>\n",
       "    </tr>\n",
       "  </thead>\n",
       "  <tbody>\n",
       "    <tr>\n",
       "      <th>[178]</th>\n",
       "      <td>[Oathbreaker, Last Hope of the Breaking Storm]</td>\n",
       "      <td>12</td>\n",
       "      <td>[4.23]</td>\n",
       "      <td>50.76</td>\n",
       "    </tr>\n",
       "    <tr>\n",
       "      <th>[82]</th>\n",
       "      <td>[Nirvana]</td>\n",
       "      <td>9</td>\n",
       "      <td>[4.9]</td>\n",
       "      <td>44.10</td>\n",
       "    </tr>\n",
       "    <tr>\n",
       "      <th>[145]</th>\n",
       "      <td>[Fiery Glass Crusader]</td>\n",
       "      <td>9</td>\n",
       "      <td>[4.58]</td>\n",
       "      <td>41.22</td>\n",
       "    </tr>\n",
       "    <tr>\n",
       "      <th>[92]</th>\n",
       "      <td>[Final Critic]</td>\n",
       "      <td>8</td>\n",
       "      <td>[4.88]</td>\n",
       "      <td>39.04</td>\n",
       "    </tr>\n",
       "    <tr>\n",
       "      <th>[103]</th>\n",
       "      <td>[Singed Scalpel]</td>\n",
       "      <td>8</td>\n",
       "      <td>[4.35]</td>\n",
       "      <td>34.80</td>\n",
       "    </tr>\n",
       "    <tr>\n",
       "      <th>[59]</th>\n",
       "      <td>[Lightning, Etcher of the King]</td>\n",
       "      <td>8</td>\n",
       "      <td>[4.23]</td>\n",
       "      <td>33.84</td>\n",
       "    </tr>\n",
       "    <tr>\n",
       "      <th>[108]</th>\n",
       "      <td>[Extraction, Quickblade Of Trembling Hands]</td>\n",
       "      <td>9</td>\n",
       "      <td>[3.53]</td>\n",
       "      <td>31.77</td>\n",
       "    </tr>\n",
       "    <tr>\n",
       "      <th>[78]</th>\n",
       "      <td>[Glimmer, Ender of the Moon]</td>\n",
       "      <td>7</td>\n",
       "      <td>[4.4]</td>\n",
       "      <td>30.80</td>\n",
       "    </tr>\n",
       "    <tr>\n",
       "      <th>[72]</th>\n",
       "      <td>[Winter's Bite]</td>\n",
       "      <td>8</td>\n",
       "      <td>[3.77]</td>\n",
       "      <td>30.16</td>\n",
       "    </tr>\n",
       "    <tr>\n",
       "      <th>[60]</th>\n",
       "      <td>[Wolf]</td>\n",
       "      <td>8</td>\n",
       "      <td>[3.54]</td>\n",
       "      <td>28.32</td>\n",
       "    </tr>\n",
       "  </tbody>\n",
       "</table>\n",
       "</div>"
      ],
      "text/plain": [
       "                                              Item Name  Item Count  \\\n",
       "Item ID                                                               \n",
       "[178]    [Oathbreaker, Last Hope of the Breaking Storm]          12   \n",
       "[82]                                          [Nirvana]           9   \n",
       "[145]                            [Fiery Glass Crusader]           9   \n",
       "[92]                                     [Final Critic]           8   \n",
       "[103]                                  [Singed Scalpel]           8   \n",
       "[59]                    [Lightning, Etcher of the King]           8   \n",
       "[108]       [Extraction, Quickblade Of Trembling Hands]           9   \n",
       "[78]                       [Glimmer, Ender of the Moon]           7   \n",
       "[72]                                    [Winter's Bite]           8   \n",
       "[60]                                             [Wolf]           8   \n",
       "\n",
       "        Item Price  Total Purchase  \n",
       "Item ID                             \n",
       "[178]       [4.23]           50.76  \n",
       "[82]         [4.9]           44.10  \n",
       "[145]       [4.58]           41.22  \n",
       "[92]        [4.88]           39.04  \n",
       "[103]       [4.35]           34.80  \n",
       "[59]        [4.23]           33.84  \n",
       "[108]       [3.53]           31.77  \n",
       "[78]         [4.4]           30.80  \n",
       "[72]        [3.77]           30.16  \n",
       "[60]        [3.54]           28.32  "
      ]
     },
     "execution_count": 138,
     "metadata": {},
     "output_type": "execute_result"
    }
   ],
   "source": [
    "MostProfitable= Item_summary1.sort_values('Total Purchase', ascending=False)\n",
    "MostProfitable\n",
    "MostProfitable[:10]"
   ]
  },
  {
   "cell_type": "code",
   "execution_count": null,
   "metadata": {},
   "outputs": [],
   "source": [
    "#1.There are more male players(84%),while wome players are only(14%).Hense, men spend more than other players.\n",
    "#2.The games are popular among people, who are at the age of 20-24 years(45%)\n",
    "#3.The most popular and most profitable product is Oathbreaker, Last Hope of the Breaking Storm."
   ]
  }
 ],
 "metadata": {
  "kernelspec": {
   "display_name": "Python 3",
   "language": "python",
   "name": "python3"
  }
 },
 "nbformat": 4,
 "nbformat_minor": 2
}
